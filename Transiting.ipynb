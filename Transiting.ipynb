{
 "cells": [
  {
   "cell_type": "markdown",
   "id": "87a5ca90",
   "metadata": {},
   "source": [
    "# Determine if an exoplanet transit will be visible while we are in Sutherland\n",
    "To determine if a star is suitable for observing from Sutherland, we need to determine if the star is above the horizon, at a reasonable airmass during the night when an exoplanet transit occurs. Fortunately, trying to observe a tranit (or eclipse of a binary star) is quite common in astronomy, so there is a python package *astroplan* which we will use to determine if a transite is visible. \n",
    "\n",
    "You will need to adapt this code to read in a whole series of star coordinates and names.  You will likely want simplfy the output as well.  Note that the code runs, but has one mistake I put in on purpose. Make sure you correct the mistake.\n",
    "\n",
    "You should output a csv file, which has a column 'num_obs_transits' which gives the number of observable transits\n",
    "for each star\n"
   ]
  },
  {
   "cell_type": "code",
   "id": "c3c6b1a9",
   "metadata": {
    "ExecuteTime": {
     "end_time": "2025-02-05T21:19:29.433489Z",
     "start_time": "2025-02-05T21:19:29.415795Z"
    }
   },
   "source": [
    "import numpy as np\n",
    "\n",
    "import astropy.units as u\n",
    "from astropy.coordinates import AltAz, EarthLocation, SkyCoord\n",
    "from astropy.time import Time,TimeDelta\n",
    "\n",
    "from astroplan import Observer\n",
    "from astroplan import FixedTarget\n",
    "from astropy.coordinates import EarthLocation\n",
    "from astropy.time import Time\n",
    "from astroplan.plots import plot_airmass \n",
    "from astroplan import EclipsingSystem\n",
    "from astroplan import (PrimaryEclipseConstraint, is_event_observable,\n",
    "                       AtNightConstraint, AltitudeConstraint, LocalTimeConstraint)\n",
    "\n",
    "\n",
    "#define our observing site\n",
    "\n",
    "sutherland=EarthLocation.of_site('Sutherland')\n",
    "\n",
    "#define the ra, dec, an ID name and of our target star\n",
    "\n",
    "myra = str(172.156226)\n",
    "mydec = str(-78.801587)\n",
    "my_id = \"TOI_1951.01\"\n",
    "\n",
    "#convert our RA and DEC into an astropy Sky Coordinate\n",
    "star_coordinates = SkyCoord(myra, mydec, unit=\"deg\")\n",
    "print(star_coordinates)\n",
    "\n",
    "#The primary eclipse is a transit for an exoplanet system. Provide the details of the orbit and transit time\n",
    "# taken from the TESS csv file\n",
    "\n",
    "primary_eclipse_time = Time(2459362.084735, format='jd')\n",
    "orbital_period = 4.8294060040563 * u.day\n",
    "eclipse_duration = 2.6761871714201 * u.hour  \n",
    "\n",
    "\n",
    "# define where we will be observing from for astroplan\n",
    "observer = Observer.at_site('Sutherland')\n",
    "\n",
    "\n",
    "#let astroplan know the name and location of our target star\n",
    "\n",
    "star1= FixedTarget(name=my_id, coord=star_coordinates)\n"
   ],
   "outputs": [
    {
     "name": "stdout",
     "output_type": "stream",
     "text": [
      "<SkyCoord (ICRS): (ra, dec) in deg\n",
      "    (172.156226, -78.801587)>\n"
     ]
    }
   ],
   "execution_count": 6
  },
  {
   "cell_type": "markdown",
   "id": "64863503",
   "metadata": {},
   "source": [
    "# Use astroplan to determine visibility of transit"
   ]
  },
  {
   "cell_type": "code",
   "id": "5783c740",
   "metadata": {
    "ExecuteTime": {
     "end_time": "2025-02-04T08:25:21.852515Z",
     "start_time": "2025-02-04T08:24:48.053097Z"
    }
   },
   "source": [
    "#let astroplan know we have a transiting system\n",
    "\n",
    "TOI_1951_01 = EclipsingSystem(primary_eclipse_time=primary_eclipse_time,\n",
    "                           orbital_period=orbital_period, duration=eclipse_duration,\n",
    "                           name=my_id)\n",
    "\n",
    "\n",
    "# the start time of our observing run\n",
    "obs_time = Time('2025-02-12 16:00')\n",
    "\n",
    "\n",
    "#approximate number of transits which would be visible in a two week (14 day) period \n",
    "\n",
    "num_transits = 14.0/orbital_period.value\n",
    "#convert to an integer\n",
    "n_transits=round(num_transits - 0.5)\n",
    "print(\"number transits in a 2 week period:\", n_transits)\n",
    "\n",
    "\n",
    "#only look for transits which occur when it is dark and occur when the star is fairly high in the sky\n",
    "\n",
    "constraints = [AtNightConstraint.twilight_civil(),\n",
    "               AltitudeConstraint(min=30*u.deg)]\n",
    "\n",
    "\n",
    "#find the ingress and egress times of the transits\n",
    "\n",
    "ing_egr = TOI_1951_01.next_primary_ingress_egress_time(obs_time, n_eclipses=n_transits)\n",
    "\n",
    "print(\"All Transits:\")\n",
    "print(ing_egr)\n",
    "\n",
    "\n",
    "# using our constraints, determine if the both the ingress and egress are observable\n",
    "# the function is_event_observable returns a boolean array which lets us know which transits are observable.\n",
    "\n",
    "can_observe=is_event_observable(constraints, observer, star1, times_ingress_egress=ing_egr)\n",
    "\n",
    "print(\"Observability: \", can_observe)\n",
    "\n",
    "num_observable = can_observe.sum()\n",
    "\n",
    "print(num_observable, \"Observable Transits of \", my_id,\":\")\n",
    "\n",
    "#last part of the code will be very useful when we decide which stars we will actually try to observe in Sutherland\n",
    "\n",
    "#in order to print out only those transit times which are observable, one needs to transpose the boolean \n",
    "#array and add an extra dimesnion to match the shape of ing_egr\n",
    "\n",
    "can_observeT=can_observe.T\n",
    "can_obs=np.insert(can_observeT,1,can_observeT[:,0],axis=1)\n",
    "\n",
    "#print(can_obs)\n",
    "\n",
    "#select out those transits which are observable\n",
    "observe_times=ing_egr[can_obs]\n",
    "\n",
    "\n",
    "if( any(observe_times) ) :\n",
    "#    print(\"Observable Transits:\")\n",
    "\n",
    "#    convert to a more easily readable format\n",
    "    t2 = Time(observe_times,format='isot')\n",
    "    print(t2)\n",
    " "
   ],
   "outputs": [
    {
     "name": "stdout",
     "output_type": "stream",
     "text": [
      "number transits in a 2 week period: 4\n",
      "All Transits:\n",
      "[[2460723.92147424 2460724.03298204]\n",
      " [2460728.75088025 2460728.86238805]\n",
      " [2460733.58028625 2460733.69179405]\n",
      " [2460738.40969226 2460738.52120006]]\n",
      "Observability:  [[False False False  True]]\n",
      "1 Observable Transits of  TOI_1951.01 :\n",
      "['2025-03-03T21:49:57.411' '2025-03-04T00:30:31.685']\n"
     ]
    }
   ],
   "execution_count": 3
  },
  {
   "cell_type": "code",
   "execution_count": null,
   "id": "d5ceae7c",
   "metadata": {},
   "outputs": [],
   "source": []
  }
 ],
 "metadata": {
  "kernelspec": {
   "display_name": "Python 3 (ipykernel)",
   "language": "python",
   "name": "python3"
  },
  "language_info": {
   "codemirror_mode": {
    "name": "ipython",
    "version": 3
   },
   "file_extension": ".py",
   "mimetype": "text/x-python",
   "name": "python",
   "nbconvert_exporter": "python",
   "pygments_lexer": "ipython3",
   "version": "3.9.7"
  }
 },
 "nbformat": 4,
 "nbformat_minor": 5
}
