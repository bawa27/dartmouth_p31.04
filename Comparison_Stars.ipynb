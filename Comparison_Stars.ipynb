{
 "cells": [
  {
   "cell_type": "markdown",
   "id": "a1e14edd",
   "metadata": {},
   "source": [
    "# Finding good comparison stars for our target stars\n",
    "The following code  download photometry from the SkyMapper survey around a specificed RA and DEC and search for good comparison stars for our RR Lyrae target stars.  Right now, it only works on one star at a time, and you neeed to manually enter the RA, DEC and Gaia ID and Gaia Gmag into the code.  You can obviously change this to read in a csv file. <br>\n",
    "<br>\n",
    "After the code has found the comparison stars, it currently outputs the number of comparison stars for Mookodi and SHOC, creates a ds9 region file and displays a digitized sky survey image with the target star and comparison stars circled - a finding chart which will be very useful when you are observing.\n",
    "<br> \n",
    "<br>\n",
    "General information on Skymapper: [https://skymapper.anu.edu.au/about-skymapper/](https://skymapper.anu.edu.au/about-skymapper/)  . This page gives information on the meaning of the various columns: [https://skymapper.anu.edu.au/table-browser/](https://skymapper.anu.edu.au/table-browser/) <br>\n",
    "<br>\n",
    "To access the date, we will use TAP (Table Access Protocol), which is a table query based upon standards from the Virtual Observatory.  To access the TAP, we use the pyvo and regions package.  These are not installed by default, so you need to open up a terminal window and type in the following at the command line: <br>\n",
    "pip install pyvo <br>\n",
    "pip install regions\n",
    "<br> \n",
    "<br>\n",
    "The code below creates the TAP query, doing a cone search with a radius of 5.0 arcminutes = 0.083 degrees around the specified RA and DEC of the SkyMapper photometry file.  It specfies which columns to download, and the output is ordered by the distance of the star from the center of the search cone.\n",
    "\n"
   ]
  },
  {
   "cell_type": "code",
   "execution_count": null,
   "id": "a3809a98",
   "metadata": {},
   "outputs": [],
   "source": [
    "import pyvo as vo\n",
    "import pandas as pd\n",
    "from astropy.coordinates import SkyCoord\n",
    "import astropy.units as u\n",
    "from astropy.table import Table\n",
    "from regions import CircleSkyRegion\n",
    "from regions import Regions\n",
    "from io import BytesIO\n",
    "import math \n",
    "import requests\n",
    "from astropy.io import fits\n",
    "import numpy as np\n",
    "import matplotlib\n",
    "import matplotlib.pyplot as plt\n",
    "from matplotlib.patches import Ellipse\n",
    "from matplotlib.patches import Rectangle\n",
    "import matplotlib.text as mpl_text\n",
    "\n",
    "myra = str(297.4817792476880)\n",
    "mydec = str(-37.19378896005740)\n",
    "my_gaia_id = \"G1\"\n",
    "Gaia_G = 11.219834\n",
    "\n",
    "\n",
    "\n",
    "#create the TAP query. Note that the search radius is in degrees, and 0.083 is 5.0 arcminutes\n",
    "my_tap_query = (\"SELECT DISTANCE(POINT('ICRS', raj2000, dej2000), POINT('ICRS', \"   \n",
    "              + myra + \", \" + mydec + \n",
    "              \")) AS dist, \"  + \n",
    "              \"m.object_id,m.raj2000,m.dej2000,m.g_flags,m.g_nimaflags,m.i_flags,m.i_nimaflags, \" + \n",
    "            \"m.g_psf,m.e_g_psf,m.i_psf,m.e_i_psf  FROM dr4.master AS m \" + \n",
    "              \"WHERE 1 = CONTAINS(POINT('ICRS', raj2000, dej2000), \" \n",
    "              \"CIRCLE('ICRS',\"  + \n",
    "               myra +\", \"+ mydec + \n",
    "              \", 0.083 )) ORDER BY dist \" )\n",
    "              \n",
    "#print(my_tap_query)\n"
   ]
  },
  {
   "cell_type": "markdown",
   "id": "90915571",
   "metadata": {},
   "source": [
    "## Now, exectue the search on the SkyMapper server"
   ]
  },
  {
   "cell_type": "code",
   "execution_count": null,
   "id": "92a35bb1",
   "metadata": {},
   "outputs": [],
   "source": [
    "tap_service = vo.dal.TAPService(\"https://api.skymapper.nci.org.au/public/tap/\")\n",
    "tap_results =  tap_service.search(my_tap_query)"
   ]
  },
  {
   "cell_type": "markdown",
   "id": "2d54920f",
   "metadata": {},
   "source": [
    "The results of the TAP query are saved as a VO table.  Convert to a Pandas dataframe, which is easier to manipulate."
   ]
  },
  {
   "cell_type": "code",
   "execution_count": null,
   "id": "6ab6eaa0",
   "metadata": {},
   "outputs": [],
   "source": [
    "astropy_table = tap_results.to_table()\n",
    "df = astropy_table.to_pandas()\n",
    "#df.info()\n",
    "\n",
    "#make sure that we really have found out target star \n",
    "if df['dist'].iloc[0] > 0.00056 :\n",
    "    print(\"We have a problem, distance > 2 arcsconds\")\n",
    "    raise SystemExit(\"Stop right there!\")\n"
   ]
  },
  {
   "cell_type": "markdown",
   "id": "07daca02",
   "metadata": {},
   "source": [
    "## Get rid of stars with bad photometry\n",
    "Keep only stars which havve good photometry in both g and i filters.  Good photometric measuresments  have flags and nimaflags = 0 and photometric errors < 0.05 mag in both the g and i filters. "
   ]
  },
  {
   "cell_type": "code",
   "execution_count": null,
   "id": "40fc0f5b",
   "metadata": {},
   "outputs": [],
   "source": [
    "g_good1 = df['g_flags'] == 0 \n",
    "g_good2 = df['g_nimaflags'] == 0\n",
    "g_good3 = df['e_g_psf'] < 0.07\n",
    "i_good1 = df['i_flags'] == 0 \n",
    "i_good2 = df['i_nimaflags'] == 0\n",
    "i_good3 = df['e_i_psf'] < 0.07\n",
    "\n",
    "#combine these comparisons to make a new dataframe\n",
    "# using df_good = df.query('g_flags == 0 ') does not work, as some of the values are null...\n",
    "df_good = df[g_good1 & g_good2 & g_good3 & i_good1 & i_good2 & i_good3]\n",
    "num_good = df_good.shape[0]\n",
    "print(\"Number of stars with good photometry: \",  num_good)\n",
    "print(df_good[['dist', 'raj2000', 'dej2000','g_psf','e_g_psf', 'i_psf', 'e_i_psf']])\n"
   ]
  },
  {
   "cell_type": "markdown",
   "id": "695c1c83",
   "metadata": {},
   "source": [
    "## Determine which instrument can observe this star\n",
    "\n",
    "We want comparison stars that are within 4 magnitudes (recall a magnitude = 2.5log(f2/f1) ) of our target star. For now seach for stars which are up to 1.0 mag brighter, or 3.5 mags fainter.  However,some of our target RR Lyrae stars do not have good photometry, in g or i band in SkyMapper.  Hence, we will approximate things and just do a cut on i magnitude, assuming that the stars are 0.5 mag brighter than their Gaia G magnitude.  You can likely do better than the code below, and will want to carefully examine the photometry file above, and the fits file to see if you think a different set of comparision stars would be useful.<br>\n",
    "<br>\n",
    "\n",
    "Note that our default search had a radius of 5.0 arcminutes, which corrosponds to the field of view of Mookodi, which is on Lesedi.  SHOC, which is on the 1.0meter telescope has a field of view with 2.85x2.85 arcminuts, so we need to restrict ourselves to stars which are within 1.4 arcminutes of the target star."
   ]
  },
  {
   "cell_type": "code",
   "execution_count": null,
   "id": "27e7d646",
   "metadata": {},
   "outputs": [],
   "source": [
    "\n",
    "\n",
    "i_brightcut = Gaia_G - 1.0\n",
    "i_faintcut = Gaia_G + 4.5\n",
    "\n",
    "i_bright = df_good['i_psf'] > i_brightcut\n",
    "i_faint = df_good['i_psf'] < i_faintcut\n",
    "\n",
    "df_mookodi = df_good[i_bright & i_faint]\n",
    "\n",
    "\n",
    "\n",
    "shoc_comp = df_mookodi['dist'] < 0.0233   #SHOC field of view is 2.8x2.8 arcminutes, so use r=1.4 arcminutes\n",
    "df_shoc = df_mookodi[shoc_comp]\n",
    "num_mookodi = df_mookodi.shape[0]\n",
    "num_shoc_comp = df_shoc.shape[0]\n",
    "if num_mookodi > 1 :\n",
    "    mookodi = \" and Mookodi can observe this star\"\n",
    "else : \n",
    "    mookodi = \"\"\n",
    "\n",
    "        \n",
    "print(\"Number of comparison stars for Mookodi: \", num_mookodi, mookodi )\n",
    "\n",
    "if num_mookodi > 1 :\n",
    "    print(df_mookodi[['dist', 'raj2000', 'dej2000','g_psf','e_g_psf', 'i_psf', 'e_i_psf']])\n",
    "\n",
    "\n",
    "if num_shoc_comp > 1 :\n",
    "    shoc = \" and SHOC can observe this star\"\n",
    "    print(\"Number of comparison stars for SHOC: \", num_shoc_comp, shoc)\n",
    "    print(df_shoc[['dist', 'raj2000', 'dej2000','g_psf','e_g_psf', 'i_psf', 'e_i_psf']])\n"
   ]
  },
  {
   "cell_type": "markdown",
   "id": "96f22742",
   "metadata": {},
   "source": [
    "## Download an image of the field\n",
    "We now want to get an image of the field containing our star (which is the first star in df).  We will use the Digitized sky survey, and return an image which is 10x10 arcminutes, so quite a bit bigger than the field of view of our instruments.  This is makes a useful finding chart in case the telescope pointing is not accurate.  \n",
    "<br>\n",
    "We query the digitized sky survey using a simple https request, which is made using the python package requests.  Once we get the data, we save it as a fits file, with the name of the file being the Gaia ID of our target star. We put the header of the fits file into *hdr* and the image data into *red_image* \n",
    "\n"
   ]
  },
  {
   "cell_type": "code",
   "execution_count": null,
   "id": "09b66c0b",
   "metadata": {},
   "outputs": [],
   "source": [
    "#https://skyview.gsfc.nasa.gov/cgi-bin/images?Survey=digitized+sky+survey&position=14.5,36.5&Return=FITS\n",
    "        \n",
    "my_https_query = (\"https://skyview.gsfc.nasa.gov/cgi-bin/images?Survey=digitized+sky+survey&position=\"\n",
    "                 + myra + \",\" + mydec + \n",
    "                 \"&Size=0.1667&Return=FITS\")\n",
    "#print(my_https_query)\n",
    "\n",
    "\n",
    "#try using DR3 for the filename\n",
    "file_name = \"DR3_\" + str(my_gaia_id) + \".fits\"\n",
    "#print(file_name)\n",
    "\n",
    "r=requests.get(my_https_query)\n",
    "with open(file_name, \"wb\") as f:\n",
    "    f.write(r.content) \n",
    "    \n",
    "with fits.open(BytesIO(r.content)) as hdul:\n",
    "   hdr=hdul[0].header\n",
    "   red_image=hdul[0].data\n"
   ]
  },
  {
   "cell_type": "markdown",
   "id": "9725f3ca",
   "metadata": {},
   "source": [
    "## Calculate the conversion between  RA,Dec  and pixel values\n",
    "We will want to circle our stars and show the field of View of SHOC, so need to convert our RA,Dec coordinates into x,y values which we can plot.  The code below throws a warning.  Spend 10 or 15 minutes to see if you can get rid of the warning and still get the results that are intended.  If you can't do so, don't worry about it, as the code does work. "
   ]
  },
  {
   "cell_type": "code",
   "execution_count": null,
   "id": "4991115f",
   "metadata": {},
   "outputs": [],
   "source": [
    "\n",
    "#print(header)\n",
    "xlength = hdr['NAXIS1']\n",
    "xcenpix = hdr['CRPIX1']\n",
    "racen = hdr['CRVAL1']\n",
    "rascale = hdr['CDELT1']\n",
    "ylength = hdr['NAXIS2']\n",
    "ycenpix = hdr['CRPIX2']\n",
    "deccen = hdr['CRVAL2']\n",
    "decscale = hdr['CDELT2']\n",
    "\n",
    "\n",
    "#print(xlength,xcenpix,rascale,ylength,ycenpix,decscale)\n",
    "\n",
    "#print(racen, deccen)\n",
    "decadjust = math.cos(math.radians(deccen) )\n",
    "\n",
    "#something is not quite right with the two lines below, but I do not understand the warning; using  .loc(:, )\n",
    "# does not get rid of the warning\n",
    "\n",
    "df_mookodi['xpix'] = xcenpix - (racen - df_mookodi['raj2000'])/rascale*decadjust\n",
    "df_mookodi['ypix'] = ycenpix - (deccen - df_mookodi['dej2000'])/decscale\n",
    "#df_mookodi.loc[:, ('xpix')] = xcenpix + (racen - df_mookodi.loc[:,('raj2000')])/rascale\n",
    "#print(df_mookodi[['dist', 'raj2000', 'dej2000', 'xpix', 'ypix']] )\n",
    "\n",
    "#calculate SHOC field of view in pixel coordinates for a rectangle\n",
    "shoc_x = xcenpix - (1.42/60.0)/rascale*decadjust\n",
    "shoc_y = ycenpix - (1.42/60.0)/decscale\n",
    "shoc_width = (2.85/60.0)/rascale*decadjust\n",
    "shoc_height = (2.85/60.0)/decscale\n"
   ]
  },
  {
   "cell_type": "markdown",
   "id": "611878b5",
   "metadata": {},
   "source": [
    "## Plot the fits image\n",
    "Circle the target and comparison stars, show the SHOC field of view and print the name of the target star at the bottom of the image"
   ]
  },
  {
   "cell_type": "code",
   "execution_count": null,
   "id": "25e5d299",
   "metadata": {},
   "outputs": [],
   "source": [
    "\n",
    "\n",
    "    \n",
    "    \n",
    "def ellipse_plot(x, y, size, a, b, theta, f_colour, e_colour):\n",
    "    \"\"\"\n",
    "    Function to plot an ellipse on a CCD image.\n",
    "\n",
    "    Keyword arguments:\n",
    "    x           -- x-axis pixel coordinate centre of ellipse\n",
    "    y           -- y-axis pixel coordinate centre of ellipse\n",
    "    a           -- semi-major axis of ellipse\n",
    "    b           -- semi-minor axis of ellipse\n",
    "    f_colour    -- facecolour of ellipse\n",
    "    e_colour    -- edge colour of ellipse\n",
    "    number      -- number of ellipses to plot\n",
    "    \"\"\"\n",
    "\n",
    "   \n",
    "    e = Ellipse(xy=(x, y), width=2.*size*a, height=2.*size*b,\n",
    "                    angle=theta * 180. / np.pi)\n",
    "    e.set_facecolor(f_colour)\n",
    "    e.set_edgecolor(e_colour)\n",
    "    ax.add_artist(e)\n",
    "    plt.draw()\n",
    "\n",
    "\n",
    "# plot 'first' image\n",
    "fig3, ax = plt.subplots(figsize=(15, 15), num=3)\n",
    "plt.subplots_adjust(left=0.15, right=0.9, top=0.95, bottom=0.15)\n",
    "m, s = np.mean(red_image), np.std(red_image)\n",
    "im = ax.imshow(red_image, interpolation='nearest',cmap='gray', vmin=m-s, vmax=m+s, origin='lower')\n",
    "#tick_plot(ax, red_image[0], red_image[1])  # call tick function\n",
    "#ax.grid(which='major', color='y', linestyle='-', linewidth=0.5)\n",
    "\n",
    "ellipse_plot(xlength/2.0, ylength/2.0,2,2,2,0, 'none', 'red')\n",
    "ellipse_plot(xlength/2.0, ylength/2.0,1,1,1,0, 'none', 'red')\n",
    "\n",
    "rect = Rectangle((shoc_x, shoc_y), shoc_width, shoc_height, linewidth=3, edgecolor='g', facecolor='none')\n",
    "\n",
    "# Add the patch to the Axes\n",
    "ax.add_patch(rect)\n",
    "\n",
    "mytext = mpl_text.Text(x=xcenpix, y = 10\n",
    "            ,text=my_gaia_id\n",
    "            ,color='black'\n",
    "            ,backgroundcolor='white'\n",
    "            ,verticalalignment='center'\n",
    "            ,horizontalalignment='center'\n",
    "            ,multialignment=None\n",
    "            ,fontsize=32\n",
    "            ,linespacing=None\n",
    "            ,rotation_mode=None\n",
    "        )\n",
    "ax.add_artist(mytext)\n",
    "\n",
    "\n",
    "for index, row in df_mookodi.iterrows():\n",
    "    xx = row['xpix']\n",
    "    yy = row['ypix']\n",
    "    ellipse_plot(xx, yy,2,2,2,0, 'none', 'red')                           \n"
   ]
  },
  {
   "cell_type": "markdown",
   "id": "d94ba1e8",
   "metadata": {},
   "source": [
    "## Examine the image\n",
    "Note that in this sample image, there are a number of bright stars close to our target star, which might make for a good set of comparison stars.  In this case, I would go take a look at all of the stars which have good photometry and see if it makes sense to alter the brightness cutoff in order to have some bright comparison stars.  Take a look and input the number of bright stars that have good photometry.  Should you change the brightness limit? Explain. The image also has a few comparison stars circled which are unlikely to be good comparison stars.  Which stars are they?  Why don't we want them as comparison stars?"
   ]
  },
  {
   "cell_type": "markdown",
   "id": "f1e5bfb1",
   "metadata": {},
   "source": [
    "## Your answer here:"
   ]
  },
  {
   "cell_type": "markdown",
   "id": "fea67981",
   "metadata": {},
   "source": [
    "## Optional: Use ds9 to display the image.\n",
    "I am not sure I like the looks of the gray scale image, so I also played around with the image in ds9.  \n",
    "We first need to create a region file with all of the stars circled, and the name of our target star at the bottom of the image.\n"
   ]
  },
  {
   "cell_type": "code",
   "execution_count": null,
   "id": "9150c4dc",
   "metadata": {},
   "outputs": [],
   "source": [
    "f = open(\"region.reg\", \"w\")\n",
    "f.write(\"physical; text(150,10 ) # color=green font=\\\"times 16 bold \\\" text={DR3 \" + str(my_gaia_id) + \"}\\n\")\n",
    "\n",
    "f.write(\"global color=blue dashlist=8 3 width=4\\n\")\n",
    "f.write(\"fk5\\n\")\n",
    "\n",
    "new_ra = str(df['raj2000'].iloc[0])\n",
    "new_dec= str(df['dej2000'].iloc[0])\n",
    "f.write(\"circle(\" + new_ra + \",\" + new_dec + \", 0.0014)\\n\")\n",
    "\n",
    "\n",
    "\n",
    "f.write(\"global color=green dashlist=8 3 width=2\\n\")\n",
    "\n",
    "\n",
    "for index, row in df_mookodi.iterrows():\n",
    "    new_ra = str(row['raj2000'])\n",
    "    new_dec= str(row['dej2000'])\n",
    "            \n",
    "    if (row['dist'] >= 0.0233 ) : \n",
    "        f.write(\"circle(\" + new_ra + \",\" + new_dec + \", 0.0014)\\n\")\n",
    "\n",
    "f.write(\"global color=red dashlist=8 3 width=3\\n\")\n",
    "for index, row in df_shoc.iterrows():\n",
    "    new_ra = str(row['raj2000'])\n",
    "    new_dec= str(row['dej2000'])\n",
    "            \n",
    "    f.write(\"circle(\" + new_ra + \",\" + new_dec + \", 0.0014)\\n\")\n",
    "\n",
    "\n",
    "f.close()\n",
    "\n",
    "#open and read the file after the overwriting:\n",
    "#f = open(\"region.reg\", \"r\")\n",
    "# print(f.read())"
   ]
  },
  {
   "cell_type": "markdown",
   "id": "59c2c509",
   "metadata": {},
   "source": [
    "## Startup ds9 and circle the stars\n",
    "Note that the location of the ds9 application hardwired into the code.  This worked fine on my Mac, where I have ds9 installed natively.  You will have to change this if you are running on a virtual machine, or Jhub, or launch ds9 manually, reeading in the fits file and the region file.  "
   ]
  },
  {
   "cell_type": "code",
   "execution_count": null,
   "id": "ef5dd252",
   "metadata": {},
   "outputs": [],
   "source": [
    "from subprocess import Popen\n",
    "exe=\"/Applications/SAOImageDS9.app/Contents/MacOS/ds9\"\n",
    "#ifile=\"output.fits\"\n",
    "args=[exe,file_name,\"-region\", \"region.reg\", \"-zoom\", \"to\", \"fit\"]\n",
    "Popen(args)\n",
    "\n"
   ]
  },
  {
   "cell_type": "markdown",
   "id": "a4bcf727",
   "metadata": {},
   "source": [
    "## Priority Class & instrument\n",
    "Once you are satisified that you have the correct brightness limits, and so your final sample of comparison stars, you need to assign a priority class to this star, ranging from 1 (must observe) to 4 (do not observe).  Append this priority class column to your input csv file of target stars (RRLyr?.csv).  In adition, append a column which indicates if this target can be observed with SHOC (and its much smalle field of view).  The name of this column should be 'SHOC' and with boolean values (True or False).  Finally, append a colomn with the RA  in hours, minutes and seconds (hint: astropy has utilities to do this conversion). Why do we want this column? "
   ]
  },
  {
   "cell_type": "markdown",
   "id": "84f14614",
   "metadata": {},
   "source": [
    "## Write out the Good comparison stars\n",
    "Output (as a csv file)  RA and Dec and the g and i magnitudes (including their errors) of the target and comparison stars.    Order the comparison stars by distance from the target star.  Use the Gaid ID of the target star as the name of the output file, and for the target star, have the last column be its Gaia ID. "
   ]
  },
  {
   "cell_type": "code",
   "execution_count": null,
   "id": "9d19f183",
   "metadata": {},
   "outputs": [],
   "source": []
  }
 ],
 "metadata": {
  "kernelspec": {
   "display_name": "Python 3 (ipykernel)",
   "language": "python",
   "name": "python3"
  },
  "language_info": {
   "codemirror_mode": {
    "name": "ipython",
    "version": 3
   },
   "file_extension": ".py",
   "mimetype": "text/x-python",
   "name": "python",
   "nbconvert_exporter": "python",
   "pygments_lexer": "ipython3",
   "version": "3.9.7"
  }
 },
 "nbformat": 4,
 "nbformat_minor": 5
}
