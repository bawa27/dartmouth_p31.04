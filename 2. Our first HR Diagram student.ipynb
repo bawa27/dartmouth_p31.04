{
 "cells": [
  {
   "cell_type": "markdown",
   "id": "31334128",
   "metadata": {},
   "source": [
    "# Jan 14, 2025: Our first HR Diagram"
   ]
  },
  {
   "cell_type": "markdown",
   "id": "c43c6341",
   "metadata": {},
   "source": [
    "*Due January 15 at 5pm. For this assignment, please a) click Kernel > Restart & Run All to erase the output and re-run everything, b) save a pdf of this jupyter notebook to upload to Canvas. You can create a pdf by going to File > Download as > PDF via LaTeX. \n",
    "\n",
    "Our goal is to create a Hertsprung-Russell (HR, or color-magnitude diagram) based on the data from the Henry Draper catalog, created over a century ago. Before getting started, let's import the packages we need."
   ]
  },
  {
   "cell_type": "code",
   "execution_count": 1,
   "id": "25acc189",
   "metadata": {},
   "outputs": [],
   "source": [
    "import numpy as np\n",
    "from astropy.table import Table\n",
    "import pandas as pd\n",
    "import matplotlib.pyplot as plt\n",
    "\n",
    "shared_dir = '/home/jovyan/shared/PHYS31/' # variable for the shared directory path"
   ]
  },
  {
   "cell_type": "markdown",
   "id": "57365aa1",
   "metadata": {},
   "source": [
    "# PART 1: Using tables to access data"
   ]
  },
  {
   "cell_type": "markdown",
   "id": "d63818ff",
   "metadata": {},
   "source": [
    "*We will work on this part on January 17th in class*\n",
    "\n",
    "I've already merged two catalogs into one, and then filtered the resulting table to select only the rows I want to use for this exercise. The two tables are:\n",
    "\n",
    "Table 1, the HD catalog: <url>https://vizier.cds.unistra.fr/viz-bin/VizieR?-source=III/135A</url> From this catalog, we are taking spectral types for stars.\n",
    "\n",
    "Table 2, the Hipparcos-Tycho Catalog: <url>https://vizier.cds.unistra.fr/viz-bin/VizieR-3?-source=I/239/hip_main</url> From this catalog, we are using distances and magnitudes of stars.\n",
    "\n",
    "## Reading the data\n",
    "\n",
    "There are two ways to read in the table, which is a file called \"HD_HIP_filtered.csv\" (csv means comma-separated-values). First, open up the CVS file using another program so you can see what it looks like.\n",
    "\n",
    "Now, we can read in the table using python, and store the result so that we can access the whole table. There are two good ways to do this. The `astropy` library contains a module `table` that is very helpful, and has some great customization for formats used by astronomers. But, we could also use the `pandas` library, which is used most in the data science community. Pandas tables (called **dataframes**) are very powerful, as we'll see later. I generally use `astropy` to read in tables, and then convert the table to do a pandas dataframe."
   ]
  },
  {
   "cell_type": "code",
   "execution_count": null,
   "id": "ec9d1b5d",
   "metadata": {},
   "outputs": [],
   "source": [
    "catalog = Table.read(shared_dir+'Tables/HD_HIP_filtered.csv') # read in the catalog\n",
    "df = catalog.to_pandas() # convert to a Pandas dataframe\n",
    "\n",
    "# you could also read the file in using pandas like this:\n",
    "# df = pd.read_csv('HD_HIP_filtered.csv', header=0)"
   ]
  },
  {
   "cell_type": "markdown",
   "id": "00ae2bf4",
   "metadata": {},
   "source": [
    "Below I print out the first five rows of the table. The top two rows show the column name, and the type of data used in that column. `float` are floating point numbers, which means they use decimals. `int` are integers. In this table, both the floats and integers are 64-bits, which specifies the amount of memory allowed (64 bits allows for very large numbers). "
   ]
  },
  {
   "cell_type": "code",
   "execution_count": null,
   "id": "40ff1559",
   "metadata": {},
   "outputs": [],
   "source": [
    "df.head() # print out the catalog; .head() prints out only the first five rows)"
   ]
  },
  {
   "cell_type": "code",
   "execution_count": null,
   "id": "9f8a1424",
   "metadata": {},
   "outputs": [],
   "source": [
    "# list all of the columns present\n",
    "df.columns"
   ]
  },
  {
   "cell_type": "markdown",
   "id": "70be62ad",
   "metadata": {},
   "source": [
    "## Navigating through the table\n",
    "\n",
    "We can access columns and rows of data. For example, to print out the columns with names `HD` and `DM`, I would write: `catalog[['HD','DM']]`, where I supplied the names of the columns I wanted to include inside of square brackets. We can also access only one column, or only one row."
   ]
  },
  {
   "cell_type": "code",
   "execution_count": null,
   "id": "841c13f0",
   "metadata": {},
   "outputs": [],
   "source": [
    "# access just one column from the table\n",
    "df['HD'].head()"
   ]
  },
  {
   "cell_type": "code",
   "execution_count": null,
   "id": "f7ae82ad",
   "metadata": {},
   "outputs": [],
   "source": [
    "# print out all of the information for the star in the 6th row \n",
    "# note: python indexing starts from 0, so #5 is actually the 6th entry\n",
    "\n",
    "df.loc[5]"
   ]
  },
  {
   "cell_type": "markdown",
   "id": "82cec377",
   "metadata": {},
   "source": [
    "### 1.a.i Printing out information\n",
    "\n",
    "There are three different star names in this table: the HD number (which is the ID of the star in the Henry Draper Catalog), the DM code (which is the ID of the star in the Durchmusterung Catalog), and HIP number (which is the ID of the star in the Hipparcos Catalog). The first two come from the HD catalog (1st Vizier link) and the latter from the Hipparcos-Tycho catalog (2nd Vizier link). I merged these two catalogs together, but let's check to see that the names all match.\n",
    "\n",
    "Let's take for our example the star in the nth column (everyone choose a different n). First, see if you can figure out how to print out only the HD, DM, HIP, and SpT columns for only the nth row. "
   ]
  },
  {
   "cell_type": "code",
   "execution_count": null,
   "id": "1f97e35c",
   "metadata": {},
   "outputs": [],
   "source": [
    "# Your code here"
   ]
  },
  {
   "cell_type": "markdown",
   "id": "a882f508",
   "metadata": {},
   "source": [
    "### 1.a.ii Checking against SIMBAD\n",
    "\n",
    "We are going to check against the entry in the SIMBAD database (which isn't perfectly accurate but is still super useful!). Navigate to SIMBAD at <url>http://simbad.u-strasbg.fr/simbad/</url> and then use the \"Search by identifier\" option to search for the star above using its HD name.\n",
    "\n",
    "What is the spectral type listed for this star? Scroll down to the identifiers section--can you verify that the DM and HIP numbers that our table says correspond to this star agree with what SIMBAD thinks?"
   ]
  },
  {
   "cell_type": "markdown",
   "id": "6e223ef7",
   "metadata": {},
   "source": [
    "<font color=\"blue\">\n",
    "    Your answer here\n",
    "</font>"
   ]
  },
  {
   "cell_type": "markdown",
   "id": "764ad95f",
   "metadata": {},
   "source": [
    "### 1.b Print out the columns we need.\n",
    "\n",
    "Using the links to the Vizier tables above, find the column names you'll need to access for this exercise: HD number, spectral type, V magnitude, B-V color, and parallax. Then, print out only those columns of the table. "
   ]
  },
  {
   "cell_type": "code",
   "execution_count": null,
   "id": "ef842b67",
   "metadata": {},
   "outputs": [],
   "source": [
    "# Your code here"
   ]
  },
  {
   "cell_type": "markdown",
   "id": "c290c92e",
   "metadata": {},
   "source": [
    "# PART 2: Analyzing the data"
   ]
  },
  {
   "cell_type": "markdown",
   "id": "4cd2d5fe",
   "metadata": {},
   "source": [
    "*You'll complete the rest of this exercise as homework*\n",
    "\n",
    "Last time, we performed calculations on numbers. Python is very convenient because you can treat arrays the exact same way. I created an array called `sample_data`. Try multiplying or dividing the array that I created, then try putting the array to the power of 2 (squaring)."
   ]
  },
  {
   "cell_type": "code",
   "execution_count": null,
   "id": "09a50653",
   "metadata": {},
   "outputs": [],
   "source": [
    "sample_data = np.array([1,2,3,4])"
   ]
  },
  {
   "cell_type": "code",
   "execution_count": null,
   "id": "e9589820",
   "metadata": {},
   "outputs": [],
   "source": [
    "# Your code here"
   ]
  },
  {
   "cell_type": "code",
   "execution_count": null,
   "id": "b73b6574",
   "metadata": {},
   "outputs": [],
   "source": [
    "# Your code here"
   ]
  },
  {
   "cell_type": "markdown",
   "id": "91b5f345",
   "metadata": {},
   "source": [
    "### 2.a. Create new columns of data for the distance to the star (in pc) and for the absolute V magnitude. \n",
    "\n",
    "Look up equations for the parallax and for absolute magnitude if you don't remember them (Wikipedia is fine). Check the units for the parallax column by looking at the Vizier table notes, and modify the parallax equation appropriately. Create new columns called `distance` and `absVmag`. An example is below, where I create a column called `Bmag` out of two other colums present in the data."
   ]
  },
  {
   "cell_type": "code",
   "execution_count": null,
   "id": "a0b33a9d",
   "metadata": {},
   "outputs": [],
   "source": [
    "df['Bmag'] = df['B-V'] + df['Vmag']"
   ]
  },
  {
   "cell_type": "code",
   "execution_count": null,
   "id": "5392c448",
   "metadata": {},
   "outputs": [],
   "source": [
    "# Your code here"
   ]
  },
  {
   "cell_type": "markdown",
   "id": "adf34776",
   "metadata": {},
   "source": [
    "## Assessing the results\n",
    "\n",
    "### 2.b.i. First checks\n",
    "\n",
    "Check your work by printing out the parallax, distance, and absolute V magnitude columns. Are the numbers for absolute V magnitude reasonable for stars (google to find some numbers for comparison)? \n",
    "\n"
   ]
  },
  {
   "cell_type": "code",
   "execution_count": null,
   "id": "e289f610",
   "metadata": {},
   "outputs": [],
   "source": [
    "# your code here"
   ]
  },
  {
   "cell_type": "markdown",
   "id": "6483383b",
   "metadata": {},
   "source": [
    "<span style=\"color:blue\">\n",
    "    Your answer here\n",
    "</span>"
   ]
  },
  {
   "cell_type": "markdown",
   "id": "cc5feb1f",
   "metadata": {},
   "source": [
    "### 2.b.ii. Investgiating the error message\n",
    "\n",
    "When you ran the code to calculate distance and absolute magnitude, what error did you receive? What part of the code did it come from? Looking at the results, what happens to absVmag when this error occurs?"
   ]
  },
  {
   "cell_type": "markdown",
   "id": "9120e221",
   "metadata": {},
   "source": [
    "<span style=\"color:blue\">\n",
    "    Your answer here\n",
    "</span>"
   ]
  },
  {
   "cell_type": "markdown",
   "id": "bdcbd991",
   "metadata": {},
   "source": [
    "### 2.b.ii. Performing basic checks on our calculation\n",
    "\n",
    "Next, do a basic check that we did the calculations correctly. We'll do this using HD 209458, which is a star in this catalog famous for having the first transiting exoplanet. In the most up-to-date catalogs, HD 209458 is about 49pc away and it is a G0 star. Our data is old, so our spectral type and distance won't match exactly, but they should be pretty close (if I messed up the catalog crossmatching, the spectral type would probaly just be dead wrong, and if we messed up the distance calculated it would likely be off by a factor of two or more). This only checks the parallax calculation; I can't think of a good way to check that we did the absolute V magnitude calculation right, though.\n",
    "\n",
    "Print out the spectral type and distance in the catalog to compare to the values above. You can select a row in the catalog based on where a condition is true like this: `df.loc[df['HD']==209458]`"
   ]
  },
  {
   "cell_type": "code",
   "execution_count": null,
   "id": "55542490",
   "metadata": {},
   "outputs": [],
   "source": [
    "# Your code here"
   ]
  },
  {
   "cell_type": "markdown",
   "id": "9c2b3c5a",
   "metadata": {},
   "source": [
    "Does this agree?\n",
    "\n",
    "<span style=\"color:blue\">\n",
    "    Your answer here\n",
    "</span>"
   ]
  },
  {
   "cell_type": "markdown",
   "id": "698b1e57",
   "metadata": {},
   "source": [
    "# Plotting the data\n",
    "\n",
    "Here's the introduction to matplotlib we looked through together in class: <url>https://matplotlib.org/stable/tutorials/introductory/pyplot.html</url>"
   ]
  },
  {
   "cell_type": "markdown",
   "id": "6e72b346",
   "metadata": {},
   "source": [
    "## The spectral type-absolute magnitude diagram\n",
    "\n",
    "The data are plotted below, but the plot isn't very user-friendly at the moment, as I think you'll agree!\n",
    "\n",
    "### 3.a. Make a scatter plot.\n",
    "\n",
    "You can do this by either using `plt.scatter` or by channging the marker symbol for `plt.plot`. After you've done this, try changing the opacity of the points (I've set it at alpha=0.8) and see what effect this has on your ability to understand the plot.\n",
    "\n",
    "### 3.b. Add axes labels.\n",
    "\n",
    "### 3.c. Change the axes limits to best show the data. \n",
    "\n",
    "In particular, for the y axis, make the axis go from large numbers to small numbers. This helps make the plot more intuitive: smaller magnitudes means brighter stars, and our brains usually want bright things to be higher up on plots. I think increasing the font size might also be nice.\n",
    "\n",
    "Use online resources to figure out how to do this, for example: \n",
    "https://matplotlib.org/stable/users/explain/quick_start.html\n"
   ]
  },
  {
   "cell_type": "code",
   "execution_count": null,
   "id": "8d1a049d",
   "metadata": {},
   "outputs": [],
   "source": [
    "plt.figure(figsize=(7,7)) # sets the figure size, in inches\n",
    "plt.plot(df['SpT'], df['absVmag'], alpha=0.8) # alpha=0.8 sets the opacity to semi-transparent.\n",
    "plt.ylim(10,-10)\n",
    "plt.xlabel('Spectral type')\n",
    "plt.ylabel('Absolute V magnitude (Tycho)')\n",
    "\n",
    "# this compresses the figure so everything fits better\n",
    "# mostly important for when you print figures out\n",
    "plt.tight_layout() "
   ]
  },
  {
   "cell_type": "markdown",
   "id": "c1055add",
   "metadata": {},
   "source": [
    "## The color-absolute magnitude diagram (CMD)\n",
    "\n",
    "### 3.c. Make a version of the H-R diagram using color on the x axis instead of spectral type.\n",
    "\n",
    "Using spectral type makes the plot a bit difficult to interpret because it's a course binning, so the versiin with color will be easier to interpret. "
   ]
  },
  {
   "cell_type": "code",
   "execution_count": null,
   "id": "1cdfeaf9",
   "metadata": {},
   "outputs": [],
   "source": [
    "# your code here"
   ]
  },
  {
   "cell_type": "markdown",
   "id": "db0bed7d",
   "metadata": {},
   "source": [
    "## Further investigations in the CMD\n",
    "\n",
    "### 3.d.i. Make a plot showing how color and spectral type are related."
   ]
  },
  {
   "cell_type": "code",
   "execution_count": null,
   "id": "6ce835d4",
   "metadata": {},
   "outputs": [],
   "source": [
    "# your code here"
   ]
  },
  {
   "cell_type": "markdown",
   "id": "2e998c02",
   "metadata": {},
   "source": [
    "### 3.d.ii. Looking at the color-magnitude H-R diagram, what are the main luminosity classes of stars that you are seeing?\n",
    "\n",
    "\n",
    "<span style=\"color:blue\">\n",
    "    Your answer here\n",
    "</span>"
   ]
  },
  {
   "cell_type": "markdown",
   "id": "5f1488d2",
   "metadata": {},
   "source": [
    "# Origins of the data\n",
    "\n",
    "Table 1, the HD catalog: <url>https://vizier.cds.unistra.fr/viz-bin/VizieR?-source=III/135A</url> Click on the link that says `1993yCat.3135....0C` to get to the reference on ADS. This particular reference is a bit odd, because it lists the year as 1993--that's the year the electronic catalog was created (the original paper is about a hundred years old). From this catalog, we are taking spectral types for stars.\n",
    "\n",
    "Table 2, the Hipparcos-Tycho Catalog: <url>https://vizier.cds.unistra.fr/viz-bin/VizieR-3?-source=I/239/hip_main</url> Navigate to the ADS reference for this source. This one is also a bit odd, because the table stands alone and is not associated with a specific paper. From this catalog, we are using distances and magnitudes of stars.\n",
    "\n",
    "### 4.a. Using the links to the ADS listings on the Vizier links, describe the HD and Tycho catalogs. \n",
    "\n",
    "Make sure to discuss: What are their origins? What type of data do they contain?\n",
    "\n",
    "<span style=\"color:blue\">\n",
    "    Your answer here\n",
    "</span>\n",
    "\n",
    "### 4.b. Main sequence M stars are the most common type of star in the Galaxy, why aren't many of them in the HD and Tycho catalogs?\n",
    "\n",
    "Consider how the observatins were conducted, what the limits of the observations were.\n",
    "\n",
    "<span style=\"color:blue\">\n",
    "    Your answer here\n",
    "</span>\n",
    "\n",
    "### 4.c. Who was Annie Jump Cannon and how is she related to this assignment?\n",
    "<span style=\"color:blue\">\n",
    "    Your answer here\n",
    "</span>"
   ]
  }
 ],
 "metadata": {
  "kernelspec": {
   "display_name": "Python 3 (ipykernel)",
   "language": "python",
   "name": "python3"
  },
  "language_info": {
   "codemirror_mode": {
    "name": "ipython",
    "version": 3
   },
   "file_extension": ".py",
   "mimetype": "text/x-python",
   "name": "python",
   "nbconvert_exporter": "python",
   "pygments_lexer": "ipython3",
   "version": "3.9.7"
  }
 },
 "nbformat": 4,
 "nbformat_minor": 5
}
