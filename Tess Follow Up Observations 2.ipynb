{
 "cells": [
  {
   "metadata": {},
   "cell_type": "markdown",
   "source": [
    "# Tess Follow Up Observations 2\n",
    "\n",
    "This notebook is the second part of a follow-up observation on TESS objects of interest (TOIs). The ultimate goal is to create a list of TOIs observable from Sutherland, South Africa. The list will be used to plan follow-up observations with the SAAO 1.0m telescope. In part 1, I gathered a list of transiting exoplanets which have more than 2 comparisons in the Mookodi field of view. In this notebook, I determine which of these objects have transits which are visible at night from Sutherland during my observing run in mid-February."
   ],
   "id": "35b0ea2d350b52b9"
  },
  {
   "metadata": {},
   "cell_type": "code",
   "source": [
    "# import necessary packages\n",
    "import numpy as np\n",
    "import pandas as pd\n",
    "\n",
    "import astropy.units as u\n",
    "from astropy.coordinates import AltAz, EarthLocation, SkyCoord\n",
    "from astropy.time import Time,TimeDelta\n",
    "\n",
    "from astroplan import Observer\n",
    "from astroplan import FixedTarget\n",
    "from astropy.coordinates import EarthLocation\n",
    "from astropy.time import Time\n",
    "from astroplan.plots import plot_airmass\n",
    "from astroplan import EclipsingSystem\n",
    "from astroplan import (PrimaryEclipseConstraint, is_event_observable,\n",
    "                       AtNightConstraint, AltitudeConstraint, LocalTimeConstraint)"
   ],
   "id": "d65744689b9464bb",
   "outputs": [],
   "execution_count": null
  },
  {
   "metadata": {},
   "cell_type": "code",
   "source": [
    "# function definitions\n",
    "\n",
    "def astroplan_init(observing_site, ra, dec, id_name, eclipse_time, orbital_period, eclipse_duration, obs_time):\n",
    "    # base cases\n",
    "    if orbital_period == 0:\n",
    "        return 0, \"\"\n",
    "\n",
    "    # define observing site\n",
    "    obs_location = EarthLocation.of_site(observing_site)\n",
    "    observer = Observer.at_site(observing_site)\n",
    "\n",
    "    #convert our RA and DEC into an astropy Sky Coordinate\n",
    "    star_coordinates = SkyCoord(ra, dec, unit=\"deg\")\n",
    "\n",
    "    # define details of transit time and such\n",
    "    primary_eclipse_time = Time(eclipse_time, format='jd')\n",
    "    orbital_period = orbital_period * u.day\n",
    "    eclipse_duration = eclipse_duration * u.hour\n",
    "\n",
    "    # let astroplan know the name and location of our target star\n",
    "    star= FixedTarget(name=id_name, coord=star_coordinates)\n",
    "\n",
    "    #let astroplan know we have a transiting system\n",
    "    curr_toi = EclipsingSystem(primary_eclipse_time=primary_eclipse_time,\n",
    "                           orbital_period=orbital_period, duration=eclipse_duration,\n",
    "                           name=id_name)\n",
    "\n",
    "    # the start time of our observing run\n",
    "    obs_time = Time(obs_time)\n",
    "\n",
    "    #approximate number of transits which would be visible in a two week (14 day) period\n",
    "    num_transits = 14.0/orbital_period.value\n",
    "    n_transits=round(num_transits - 0.5)\n",
    "\n",
    "    constraints = [AtNightConstraint.twilight_civil(),\n",
    "               AltitudeConstraint(min=30*u.deg)]\n",
    "\n",
    "    ing_egr = curr_toi.next_primary_ingress_egress_time(obs_time, n_eclipses=n_transits)\n",
    "\n",
    "    # using our constraints, determine if the both the ingress and egress are observable\n",
    "    # the function is_event_observable returns a boolean array which lets us know which transits are observable.\n",
    "\n",
    "    can_observe=is_event_observable(constraints, observer, star, times_ingress_egress=ing_egr)\n",
    "    num_observable = can_observe.sum()\n",
    "\n",
    "    can_observeT=can_observe.T\n",
    "    can_obs=np.insert(can_observeT,1,can_observeT[:,0],axis=1)\n",
    "    observe_times=ing_egr[can_obs]\n",
    "\n",
    "    t2 = \"\"\n",
    "\n",
    "    if( any(observe_times) ) :\n",
    "        #convert to a more easily readable format\n",
    "        t2 = Time(observe_times,format='isot')\n",
    "\n",
    "    return num_observable, t2"
   ],
   "id": "2e136b37945494c6",
   "outputs": [],
   "execution_count": null
  },
  {
   "metadata": {},
   "cell_type": "code",
   "source": [
    "# reading csv file created in part 1\n",
    "toi = pd.read_csv('Tables/TESS_TOI_28Jan2025_Mookodi.csv')\n",
    "toi.head()"
   ],
   "id": "3214b99f1ac473d9",
   "outputs": [],
   "execution_count": null
  },
  {
   "metadata": {},
   "cell_type": "code",
   "source": [
    "# creating empty lists to be turned into columns\n",
    "trans_num = []\n",
    "trans_time = []\n",
    "\n",
    "# looping over all rows in the dataset\n",
    "for index, row in toi.iterrows():\n",
    "    num, time = astroplan_init('Sutherland', row['RA (deg)'], row['Dec (deg)'], row['TOI'], row['Epoch (BJD)'], row['Period (days)'], row['Duration (hours)'], '2025-02-12 16:00')\n",
    "    trans_num.append(num)\n",
    "    trans_time.append(time)"
   ],
   "id": "c4e9b416a18c51e2",
   "outputs": [],
   "execution_count": null
  },
  {
   "metadata": {},
   "cell_type": "code",
   "source": [
    "# copying the dataframe\n",
    "toi_filtered = toi.copy()\n",
    "\n",
    "# appending the new columns to the dataframe\n",
    "toi_filtered.loc[:,'Num Transits'] = trans_num\n",
    "toi_filtered.loc[:,'Transit Times'] = trans_time\n",
    "\n",
    "# keeping only rows with at least one observable transit\n",
    "toi_trans = toi_filtered.loc[toi_filtered['Num Transits'] >= 1]"
   ],
   "id": "3e21d97a45d8181c",
   "outputs": [],
   "execution_count": null
  },
  {
   "metadata": {},
   "cell_type": "code",
   "source": [
    "# saving to a new csv file\n",
    "toi_trans.to_csv('Tables/TESS_TOI_28Jan2025_Mookodi_Transits.csv', index=False)"
   ],
   "id": "822bff2fd5e37d12",
   "outputs": [],
   "execution_count": null
  },
  {
   "metadata": {},
   "cell_type": "markdown",
   "source": [
    "### Final lists\n",
    "below is the code for the lists provided in the writeup"
   ],
   "id": "e47302b05bc7b918"
  },
  {
   "metadata": {},
   "cell_type": "code",
   "source": [
    "# first 10 potentially observable and number of transits for each\n",
    "toi_trans[['TOI', 'Num Transits']].head(10)"
   ],
   "id": "1738ba10ed5160ae",
   "outputs": [],
   "execution_count": null
  },
  {
   "metadata": {},
   "cell_type": "code",
   "source": [
    "# list the number of TOIs with 1 observable transit\n",
    "len(toi_trans[toi_trans['Num Transits'] == 1])"
   ],
   "id": "e7baf9fc51d441a6",
   "outputs": [],
   "execution_count": null
  },
  {
   "metadata": {},
   "cell_type": "code",
   "source": [
    "# list the number of TOIs with 2 observable\n",
    "len(toi_trans[toi_trans['Num Transits'] == 2])"
   ],
   "id": "e3194324ee80b5d3",
   "outputs": [],
   "execution_count": null
  },
  {
   "metadata": {},
   "cell_type": "code",
   "source": [
    "# list the number of TOIs with 3 observable\n",
    "len(toi_trans[toi_trans['Num Transits'] == 3])"
   ],
   "id": "60b6e955ba54f6f1",
   "outputs": [],
   "execution_count": null
  },
  {
   "metadata": {},
   "cell_type": "code",
   "source": [
    "# list the number of TOIs with > 3 observable\n",
    "len(toi_trans[toi_trans['Num Transits'] > 3])"
   ],
   "id": "c3dbbe900d0c79d9",
   "outputs": [],
   "execution_count": null
  }
 ],
 "metadata": {
  "kernelspec": {
   "display_name": "Python 3",
   "language": "python",
   "name": "python3"
  },
  "language_info": {
   "codemirror_mode": {
    "name": "ipython",
    "version": 2
   },
   "file_extension": ".py",
   "mimetype": "text/x-python",
   "name": "python",
   "nbconvert_exporter": "python",
   "pygments_lexer": "ipython2",
   "version": "2.7.6"
  }
 },
 "nbformat": 4,
 "nbformat_minor": 5
}
