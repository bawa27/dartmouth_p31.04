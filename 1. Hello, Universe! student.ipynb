{
 "cells": [
  {
   "cell_type": "markdown",
   "metadata": {},
   "source": [
    "# Jan 9 2025: Hello, Universe!\n",
    "*Due January 10 at 5pm. For this assignment, please a) click Kernel > Restart & Run All to erase the output and re-run everything, b) save a pdf of this jupyter notebook to upload to Canvas along with a copy of your downloaded Jupyter notebook file.  You can create a pdf by going to File > Download as > PDF via LaTeX. \n",
    "\n",
    "Jupyter notebooks are a nice way of programming because you can combine comments and the output images with the code itself. The origin of the name is Jupiter + python, with the inspiration coming from Galileo's notebooks showing the movement of the Galilean satellites of Jupiter.\n",
    "\n",
    "Each of these gray boxes is a *cell*. Cells can be text (like this one) or code (like the next one). This cell is a **Markdown** cell, which you'll see denoted along the top toolbar. You can set the type of each cell. Double click on this cell, and you can see how I formatted this text. Hold down <kbd>shift</kbd> +<kbd>enter</kbd> to run this cell and return it to the formatted text.\n",
    "\n",
    "Code cells have to be run in order to run the code contained within them. Click on the next cell and hold down <kbd>shift</kbd> +<kbd>enter</kbd> to run the cell."
   ]
  },
  {
   "cell_type": "code",
   "metadata": {
    "ExecuteTime": {
     "end_time": "2025-01-15T07:44:49.106269Z",
     "start_time": "2025-01-15T07:44:49.017054Z"
    }
   },
   "source": [
    "from IPython.display import Image\n",
    "shared_dir = '/home/jovyan/shared/PHYS31/'\n",
    "Image(filename=shared_dir+'Figures/galileo_manuscript.png') \n",
    "\n",
    "# image is from https://www.nasa.gov/feature/410-years-ago-galileo-discovers-jupiter-s-moons"
   ],
   "outputs": [
    {
     "ename": "FileNotFoundError",
     "evalue": "[Errno 2] No such file or directory: '/home/jovyan/shared/PHYS31/Figures/galileo_manuscript.png'",
     "output_type": "error",
     "traceback": [
      "\u001B[1;31m---------------------------------------------------------------------------\u001B[0m",
      "\u001B[1;31mFileNotFoundError\u001B[0m                         Traceback (most recent call last)",
      "Cell \u001B[1;32mIn[4], line 3\u001B[0m\n\u001B[0;32m      1\u001B[0m \u001B[38;5;28;01mfrom\u001B[39;00m\u001B[38;5;250m \u001B[39m\u001B[38;5;21;01mIPython\u001B[39;00m\u001B[38;5;21;01m.\u001B[39;00m\u001B[38;5;21;01mdisplay\u001B[39;00m\u001B[38;5;250m \u001B[39m\u001B[38;5;28;01mimport\u001B[39;00m Image\n\u001B[0;32m      2\u001B[0m shared_dir \u001B[38;5;241m=\u001B[39m \u001B[38;5;124m'\u001B[39m\u001B[38;5;124m/home/jovyan/shared/PHYS31/\u001B[39m\u001B[38;5;124m'\u001B[39m\n\u001B[1;32m----> 3\u001B[0m \u001B[43mImage\u001B[49m\u001B[43m(\u001B[49m\u001B[43mfilename\u001B[49m\u001B[38;5;241;43m=\u001B[39;49m\u001B[43mshared_dir\u001B[49m\u001B[38;5;241;43m+\u001B[39;49m\u001B[38;5;124;43m'\u001B[39;49m\u001B[38;5;124;43mFigures/galileo_manuscript.png\u001B[39;49m\u001B[38;5;124;43m'\u001B[39;49m\u001B[43m)\u001B[49m \n\u001B[0;32m      5\u001B[0m \u001B[38;5;66;03m# image is from https://www.nasa.gov/feature/410-years-ago-galileo-discovers-jupiter-s-moons\u001B[39;00m\n",
      "File \u001B[1;32m~\\miniconda3\\Lib\\site-packages\\IPython\\core\\display.py:1053\u001B[0m, in \u001B[0;36mImage.__init__\u001B[1;34m(self, data, url, filename, format, embed, width, height, retina, unconfined, metadata, alt)\u001B[0m\n\u001B[0;32m   1051\u001B[0m \u001B[38;5;28mself\u001B[39m\u001B[38;5;241m.\u001B[39munconfined \u001B[38;5;241m=\u001B[39m unconfined\n\u001B[0;32m   1052\u001B[0m \u001B[38;5;28mself\u001B[39m\u001B[38;5;241m.\u001B[39malt \u001B[38;5;241m=\u001B[39m alt\n\u001B[1;32m-> 1053\u001B[0m \u001B[38;5;28;43msuper\u001B[39;49m\u001B[43m(\u001B[49m\u001B[43mImage\u001B[49m\u001B[43m,\u001B[49m\u001B[43m \u001B[49m\u001B[38;5;28;43mself\u001B[39;49m\u001B[43m)\u001B[49m\u001B[38;5;241;43m.\u001B[39;49m\u001B[38;5;21;43m__init__\u001B[39;49m\u001B[43m(\u001B[49m\u001B[43mdata\u001B[49m\u001B[38;5;241;43m=\u001B[39;49m\u001B[43mdata\u001B[49m\u001B[43m,\u001B[49m\u001B[43m \u001B[49m\u001B[43murl\u001B[49m\u001B[38;5;241;43m=\u001B[39;49m\u001B[43murl\u001B[49m\u001B[43m,\u001B[49m\u001B[43m \u001B[49m\u001B[43mfilename\u001B[49m\u001B[38;5;241;43m=\u001B[39;49m\u001B[43mfilename\u001B[49m\u001B[43m,\u001B[49m\n\u001B[0;32m   1054\u001B[0m \u001B[43m        \u001B[49m\u001B[43mmetadata\u001B[49m\u001B[38;5;241;43m=\u001B[39;49m\u001B[43mmetadata\u001B[49m\u001B[43m)\u001B[49m\n\u001B[0;32m   1056\u001B[0m \u001B[38;5;28;01mif\u001B[39;00m \u001B[38;5;28mself\u001B[39m\u001B[38;5;241m.\u001B[39mwidth \u001B[38;5;129;01mis\u001B[39;00m \u001B[38;5;28;01mNone\u001B[39;00m \u001B[38;5;129;01mand\u001B[39;00m \u001B[38;5;28mself\u001B[39m\u001B[38;5;241m.\u001B[39mmetadata\u001B[38;5;241m.\u001B[39mget(\u001B[38;5;124m'\u001B[39m\u001B[38;5;124mwidth\u001B[39m\u001B[38;5;124m'\u001B[39m, {}):\n\u001B[0;32m   1057\u001B[0m     \u001B[38;5;28mself\u001B[39m\u001B[38;5;241m.\u001B[39mwidth \u001B[38;5;241m=\u001B[39m metadata[\u001B[38;5;124m'\u001B[39m\u001B[38;5;124mwidth\u001B[39m\u001B[38;5;124m'\u001B[39m]\n",
      "File \u001B[1;32m~\\miniconda3\\Lib\\site-packages\\IPython\\core\\display.py:371\u001B[0m, in \u001B[0;36mDisplayObject.__init__\u001B[1;34m(self, data, url, filename, metadata)\u001B[0m\n\u001B[0;32m    368\u001B[0m \u001B[38;5;28;01melif\u001B[39;00m \u001B[38;5;28mself\u001B[39m\u001B[38;5;241m.\u001B[39mmetadata \u001B[38;5;129;01mis\u001B[39;00m \u001B[38;5;28;01mNone\u001B[39;00m:\n\u001B[0;32m    369\u001B[0m     \u001B[38;5;28mself\u001B[39m\u001B[38;5;241m.\u001B[39mmetadata \u001B[38;5;241m=\u001B[39m {}\n\u001B[1;32m--> 371\u001B[0m \u001B[38;5;28;43mself\u001B[39;49m\u001B[38;5;241;43m.\u001B[39;49m\u001B[43mreload\u001B[49m\u001B[43m(\u001B[49m\u001B[43m)\u001B[49m\n\u001B[0;32m    372\u001B[0m \u001B[38;5;28mself\u001B[39m\u001B[38;5;241m.\u001B[39m_check_data()\n",
      "File \u001B[1;32m~\\miniconda3\\Lib\\site-packages\\IPython\\core\\display.py:1088\u001B[0m, in \u001B[0;36mImage.reload\u001B[1;34m(self)\u001B[0m\n\u001B[0;32m   1086\u001B[0m \u001B[38;5;250m\u001B[39m\u001B[38;5;124;03m\"\"\"Reload the raw data from file or URL.\"\"\"\u001B[39;00m\n\u001B[0;32m   1087\u001B[0m \u001B[38;5;28;01mif\u001B[39;00m \u001B[38;5;28mself\u001B[39m\u001B[38;5;241m.\u001B[39membed:\n\u001B[1;32m-> 1088\u001B[0m     \u001B[38;5;28;43msuper\u001B[39;49m\u001B[43m(\u001B[49m\u001B[43mImage\u001B[49m\u001B[43m,\u001B[49m\u001B[38;5;28;43mself\u001B[39;49m\u001B[43m)\u001B[49m\u001B[38;5;241;43m.\u001B[39;49m\u001B[43mreload\u001B[49m\u001B[43m(\u001B[49m\u001B[43m)\u001B[49m\n\u001B[0;32m   1089\u001B[0m     \u001B[38;5;28;01mif\u001B[39;00m \u001B[38;5;28mself\u001B[39m\u001B[38;5;241m.\u001B[39mretina:\n\u001B[0;32m   1090\u001B[0m         \u001B[38;5;28mself\u001B[39m\u001B[38;5;241m.\u001B[39m_retina_shape()\n",
      "File \u001B[1;32m~\\miniconda3\\Lib\\site-packages\\IPython\\core\\display.py:397\u001B[0m, in \u001B[0;36mDisplayObject.reload\u001B[1;34m(self)\u001B[0m\n\u001B[0;32m    395\u001B[0m \u001B[38;5;28;01mif\u001B[39;00m \u001B[38;5;28mself\u001B[39m\u001B[38;5;241m.\u001B[39mfilename \u001B[38;5;129;01mis\u001B[39;00m \u001B[38;5;129;01mnot\u001B[39;00m \u001B[38;5;28;01mNone\u001B[39;00m:\n\u001B[0;32m    396\u001B[0m     encoding \u001B[38;5;241m=\u001B[39m \u001B[38;5;28;01mNone\u001B[39;00m \u001B[38;5;28;01mif\u001B[39;00m \u001B[38;5;124m\"\u001B[39m\u001B[38;5;124mb\u001B[39m\u001B[38;5;124m\"\u001B[39m \u001B[38;5;129;01min\u001B[39;00m \u001B[38;5;28mself\u001B[39m\u001B[38;5;241m.\u001B[39m_read_flags \u001B[38;5;28;01melse\u001B[39;00m \u001B[38;5;124m\"\u001B[39m\u001B[38;5;124mutf-8\u001B[39m\u001B[38;5;124m\"\u001B[39m\n\u001B[1;32m--> 397\u001B[0m     \u001B[38;5;28;01mwith\u001B[39;00m \u001B[38;5;28;43mopen\u001B[39;49m\u001B[43m(\u001B[49m\u001B[38;5;28;43mself\u001B[39;49m\u001B[38;5;241;43m.\u001B[39;49m\u001B[43mfilename\u001B[49m\u001B[43m,\u001B[49m\u001B[43m \u001B[49m\u001B[38;5;28;43mself\u001B[39;49m\u001B[38;5;241;43m.\u001B[39;49m\u001B[43m_read_flags\u001B[49m\u001B[43m,\u001B[49m\u001B[43m \u001B[49m\u001B[43mencoding\u001B[49m\u001B[38;5;241;43m=\u001B[39;49m\u001B[43mencoding\u001B[49m\u001B[43m)\u001B[49m \u001B[38;5;28;01mas\u001B[39;00m f:\n\u001B[0;32m    398\u001B[0m         \u001B[38;5;28mself\u001B[39m\u001B[38;5;241m.\u001B[39mdata \u001B[38;5;241m=\u001B[39m f\u001B[38;5;241m.\u001B[39mread()\n\u001B[0;32m    399\u001B[0m \u001B[38;5;28;01melif\u001B[39;00m \u001B[38;5;28mself\u001B[39m\u001B[38;5;241m.\u001B[39murl \u001B[38;5;129;01mis\u001B[39;00m \u001B[38;5;129;01mnot\u001B[39;00m \u001B[38;5;28;01mNone\u001B[39;00m:\n\u001B[0;32m    400\u001B[0m     \u001B[38;5;66;03m# Deferred import\u001B[39;00m\n",
      "\u001B[1;31mFileNotFoundError\u001B[0m: [Errno 2] No such file or directory: '/home/jovyan/shared/PHYS31/Figures/galileo_manuscript.png'"
     ]
    }
   ],
   "execution_count": 4
  },
  {
   "cell_type": "markdown",
   "metadata": {},
   "source": [
    "The cell above displays an image, and also illustrates some of the key points for how python and jupyter work. Let's look at the first line:  \n",
    "\n",
    "<code>from IPython.display import Image</code>\n",
    "\n",
    "This imports a **function** or **class**, in this case `Image`, from a **library**, in this case `IPython`. A library contains a few or a multitude of individual files, referred to as **modules**; here the `Image` function is found within the `display` module. Once we've imported the relevent modules, we have access to the functions contained within them. In this example, we're only importing one function from the library: the `Image` function.\n",
    "\n",
    "That brings us to functions and classes. Both of these are ways of storing pre-written code for use later. They are used (or **called**) in the same way, by writing the name of the function or class and placing parentheses around the input **arguments** (there could be none, one, or many!). Suppling arguments is often called **passing** arguments to the function or class. Here is where we use the class `Image`:\n",
    "\n",
    "<code>Image(filename='galileo_manuscript.png')</code>\n",
    "    \n",
    "In our example, `Image` takes the argument `filename`. This line of code displays the image 'galileo_manuscript.png', which is in the same folder as this jupyter notebook.\n",
    "\n",
    "The last line in the cell above is a **comment** and is denoted by a hashtag (`#`). A comment is text within a code cell that is *not* run as code. You can put whatever you like inside a comment. Comments are super important for writing code that other people can use, and that you yourself will understand when you come back to it in a week, or a month, or a year. "
   ]
  },
  {
   "cell_type": "markdown",
   "metadata": {},
   "source": [
    "# 1. How many stars are there in the Galaxy?\n",
    "\n",
    "We are going to estimate the number of stars in the Milky Way Galaxy (our home Galaxy!). This is going to be an order-of-magnitude (or back-of-the-envelope) calculation. First, we'll do this on the board together, then you'll repeat the calculations in code. Here are two facts:\n",
    "* The nearest star to us is Proxima Centauri, and it is 1.3pc away\n",
    "* Our Galaxy is approximately a cylinder, with a radius of 10kpc and a height of 1kpc.\n",
    "\n",
    "The next few code cells contain examples of how to perform the math we'll need to do this.\n"
   ]
  },
  {
   "cell_type": "code",
   "execution_count": 2,
   "metadata": {},
   "outputs": [
    {
     "data": {
      "text/plain": [
       "15"
      ]
     },
     "execution_count": 2,
     "metadata": {},
     "output_type": "execute_result"
    }
   ],
   "source": [
    "# multiplication\n",
    "5*3"
   ]
  },
  {
   "cell_type": "code",
   "execution_count": 3,
   "metadata": {},
   "outputs": [
    {
     "data": {
      "text/plain": [
       "125"
      ]
     },
     "execution_count": 3,
     "metadata": {},
     "output_type": "execute_result"
    }
   ],
   "source": [
    "# exponents\n",
    "5**3"
   ]
  },
  {
   "cell_type": "code",
   "execution_count": 4,
   "metadata": {},
   "outputs": [
    {
     "data": {
      "text/plain": [
       "1.6666666666666667"
      ]
     },
     "execution_count": 4,
     "metadata": {},
     "output_type": "execute_result"
    }
   ],
   "source": [
    "# division\n",
    "5/3"
   ]
  },
  {
   "cell_type": "code",
   "execution_count": 5,
   "metadata": {},
   "outputs": [
    {
     "data": {
      "text/plain": [
       "1.6666666666666667"
      ]
     },
     "execution_count": 5,
     "metadata": {},
     "output_type": "execute_result"
    }
   ],
   "source": [
    "# this all works using variables, too\n",
    "a = 3\n",
    "b = 5\n",
    "b/a"
   ]
  },
  {
   "cell_type": "markdown",
   "metadata": {},
   "source": [
    "The cell below (a code cell) repeats the calculation that we just did together. We defined three **variables**: `volume_sun`, `volume_galaxy`, and `number_stars`. I follow the \"snake\" convention for naming variables, where all letters are lower case and words are connected together by an underscore. Note that I tried to name these variables something meaningful, and I left a comment for each line saying what it does. \n",
    "\n",
    "After completing the calculation, we want to see what answer we actually got. The method I've used above is to simply type the variable name in the cell and it will get printed out. \n"
   ]
  },
  {
   "cell_type": "code",
   "execution_count": 12,
   "metadata": {},
   "outputs": [
    {
     "data": {
      "text/plain": [
       "728265817023.2134"
      ]
     },
     "execution_count": 12,
     "metadata": {},
     "output_type": "execute_result"
    }
   ],
   "source": [
    "volume_sun = 3.14 * (1.3/2)**3 # define the volume of space contained by the Sun, in units of pc\n",
    "volume_galaxy = 2*3.14 * (10*10**3)**2 * 10**3 # define the volume of the Galaxy, in units of pc\n",
    "number_stars = volume_galaxy/volume_sun # this calculates the number of stars\n",
    "number_stars # this will print out the number of stars"
   ]
  },
  {
   "cell_type": "markdown",
   "metadata": {},
   "source": [
    "## Printing out variables\n",
    "\n",
    "### 1.a Printing experiment.\n",
    "\n",
    "Try print out `volume_sun` and `volume_galaxy` following the same method I used, by just typing the variable names. Put all your code in the same cell (I've already included `number_of_stars` in the cell below for you). Did it work?"
   ]
  },
  {
   "cell_type": "code",
   "execution_count": 13,
   "metadata": {},
   "outputs": [
    {
     "data": {
      "text/plain": [
       "0.8623225000000001"
      ]
     },
     "execution_count": 13,
     "metadata": {},
     "output_type": "execute_result"
    }
   ],
   "source": [
    "number_stars # this will print out the number of stars\n",
    "volume_galaxy # this will print out the volume of the galaxy\n",
    "volume_sun # this will print out the volume of each sun"
   ]
  },
  {
   "cell_type": "markdown",
   "metadata": {},
   "source": [
    "## Using the print function"
   ]
  },
  {
   "cell_type": "markdown",
   "metadata": {},
   "source": [
    "As you saw above, typing the variable name only works for one variable (specifically, the last one written). Plus, maybe you want to add some other information. This leads us to the extremely useful `print` function. `print` is a function and as an argument in takes as an argument the variable you want to print out. You can also print out multiple items by supplying multiple arguments, separated by commas. For example:"
   ]
  },
  {
   "cell_type": "code",
   "execution_count": 14,
   "metadata": {},
   "outputs": [
    {
     "name": "stdout",
     "output_type": "stream",
     "text": [
      "Hello, Universe! This is Professor Chaboyer .\n"
     ]
    }
   ],
   "source": [
    "name=\"Professor Chaboyer\"\n",
    "print(\"Hello, Universe! This is\", name, \".\")"
   ]
  },
  {
   "cell_type": "markdown",
   "metadata": {},
   "source": [
    "### 1.b. Write print statements to print out the volume of the galaxy and our estimate of the number of stars. \n",
    "\n",
    "Make sure to include enough information so that someone else will know what the output means, including units. Note that python saves the variables you calculated in previous cells until you either re-write over those variables, or restart the kernel (under the Kernel menu in the top toolbar)."
   ]
  },
  {
   "cell_type": "code",
   "execution_count": 9,
   "metadata": {},
   "outputs": [
    {
     "name": "stdout",
     "output_type": "stream",
     "text": [
      "728265817023.2134\n",
      "628000000000.0\n",
      "0.8623225000000001\n"
     ]
    }
   ],
   "source": [
    "print(number_stars) # this will print out the number of stars\n",
    "print(volume_galaxy) # this will print out the volume of the galaxy\n",
    "print(volume_sun) # this will print out the volume of each sun"
   ]
  },
  {
   "cell_type": "markdown",
   "metadata": {},
   "source": [
    "## Once again, with units\n",
    "\n",
    "One thing that was pretty awkward about the calculation we just did is that we had to convert all of the units outselves: by default, programming doesn't know anything about units. We also had to type out what pi was; we didn't need much precision in this case because we were doing an order-of-magnitude calcualtion, but imagine if we wanted 5 decimals of precision in our calculation!\n",
    "\n",
    "We are going to use the `math` library, which contains such nice utilities as pi, and a modules from the ``astropy`` library: ``units``. Below are the import statements such that you have access to these tools."
   ]
  },
  {
   "cell_type": "code",
   "execution_count": 10,
   "metadata": {},
   "outputs": [
    {
     "name": "stdout",
     "output_type": "stream",
     "text": [
      "I'm printing out pi! 3.141592653589793\n"
     ]
    },
    {
     "data": {
      "text/html": [
       "<table style=\"width:50%\"><tr><th>Primary name</th><th>Unit definition</th><th>Aliases</th></tr><tr><td>AU</td><td>1.49598e+11 m</td><td>au, astronomical_unit</td></tr><tr><td>Angstrom</td><td>1e-10 m</td><td>AA, angstrom</td></tr><tr><td>cm</td><td>0.01 m</td><td>centimeter</td></tr><tr><td>earthRad</td><td>6.3781e+06 m</td><td>R_earth, Rearth</td></tr><tr><td>jupiterRad</td><td>7.1492e+07 m</td><td>R_jup, Rjup, R_jupiter, Rjupiter</td></tr><tr><td>lsec</td><td>2.99792e+08 m</td><td>lightsecond</td></tr><tr><td>lyr</td><td>9.46073e+15 m</td><td>lightyear</td></tr><tr><td>m</td><td>irreducible</td><td>meter</td></tr><tr><td>micron</td><td>1e-06 m</td><td></td></tr><tr><td>pc</td><td>3.08568e+16 m</td><td>parsec</td></tr><tr><td>solRad</td><td>6.957e+08 m</td><td>R_sun, Rsun</td></tr></table>"
      ],
      "text/plain": [
       "  Primary name | Unit definition | Aliases                         \n",
       "[\n",
       "  AU           | 1.49598e+11 m   | au, astronomical_unit            ,\n",
       "  Angstrom     | 1e-10 m         | AA, angstrom                     ,\n",
       "  cm           | 0.01 m          | centimeter                       ,\n",
       "  earthRad     | 6.3781e+06 m    | R_earth, Rearth                  ,\n",
       "  jupiterRad   | 7.1492e+07 m    | R_jup, Rjup, R_jupiter, Rjupiter ,\n",
       "  lsec         | 2.99792e+08 m   | lightsecond                      ,\n",
       "  lyr          | 9.46073e+15 m   | lightyear                        ,\n",
       "  m            | irreducible     | meter                            ,\n",
       "  micron       | 1e-06 m         |                                  ,\n",
       "  pc           | 3.08568e+16 m   | parsec                           ,\n",
       "  solRad       | 6.957e+08 m     | R_sun, Rsun                      ,\n",
       "]"
      ]
     },
     "execution_count": 10,
     "metadata": {},
     "output_type": "execute_result"
    }
   ],
   "source": [
    "import astropy.units as u # here I'm giving astropy.units a nickname which we can use later\n",
    "import astropy.constants as c\n",
    "import math\n",
    "\n",
    "# here's how you access pi:\n",
    "print(\"I'm printing out pi!\", math.pi)\n",
    "\n",
    "# Astronomers use a lot of imperial units. \n",
    "#You can see which of these are available \n",
    "# in ``astropy`` with this handy function:\n",
    "u.m.find_equivalent_units() "
   ]
  },
  {
   "cell_type": "markdown",
   "metadata": {},
   "source": [
    "### 2.a. Use the astropy documentation at <url>https://docs.astropy.org/en/stable/units/</url> to re-write your calculation using units."
   ]
  },
  {
   "cell_type": "code",
   "execution_count": 16,
   "metadata": {},
   "outputs": [
    {
     "name": "stdout",
     "output_type": "stream",
     "text": [
      "Sun Volume = 1.1497633333333332 pc3\n",
      "Galaxy Volume = 628318530717.9586 pc3\n",
      "Number of stars:\n"
     ]
    },
    {
     "data": {
      "text/latex": [
       "$5.464764 \\times 10^{11} \\; \\mathrm{}$"
      ],
      "text/plain": [
       "<Quantity 5.46476403e+11>"
      ]
     },
     "execution_count": 16,
     "metadata": {},
     "output_type": "execute_result"
    }
   ],
   "source": [
    "# Quick calculation of how many stars there are in the galaxy\n",
    "\n",
    "import astropy.units as u \n",
    "import astropy.constants as c\n",
    "import math\n",
    "\n",
    "# Defining constants \n",
    "volume_sun = 4/3 * 3.14 * (1.3/2)**3 * u.pc**3 # define the volume of space contained by the Sun, in units of pc\n",
    "volume_galaxy = 2*math.pi * (10*10**3)**2 * 10**3 * u.pc**3 # define the volume of the Galaxy, in units of pc\n",
    "number_stars = volume_galaxy/volume_sun # this calculates the number of stars\n",
    "\n",
    "\n",
    "print(\"Sun Volume =\", volume_sun)\n",
    "print(\"Galaxy Volume =\", volume_galaxy)\n",
    "print(\"Number of stars:\") \n",
    "number_stars # this will print out the number of stars"
   ]
  },
  {
   "cell_type": "markdown",
   "metadata": {},
   "source": [
    "# Astropy\n",
    "\n",
    "Get some help from your good friend google to answer the following questions. Edit the markdown cells by double clicking. After editing make sure to run the cells so they look nice."
   ]
  },
  {
   "cell_type": "markdown",
   "metadata": {},
   "source": [
    "### 2.b.i. What is the astropy project?\n",
    "\n",
    "A community project that strives to create and continue supporting tools needed for astronomy in Python.\n",
    "\n",
    "### 2.b.ii. Find an astropy tutorial that deals with tables and include the link here. \n",
    "\n",
    "https://docs.astropy.org/en/latest/table/index.html\n",
    "\n",
    "### 2.b.iii. How would you cite astropy in a paper?\n",
    "\n",
    "To cite astropy in a paper, you have to at least cite the most recent astropy paper (https://arxiv.org/abs/2206.14220). However, it is encouraged to cite all three: https://www.astropy.org/acknowledging.html. When using AASTex, you have to add a software tag: \n",
    "\n",
    "\\ software{Astropy \\ citep{astropy:2013, astropy:2018, astropy:2022}}. \n",
    "\n",
    "For other papers/journals, this LaTeX snippet is given: \n",
    "\n",
    "This work made use of Astropy:\\ footnote{http://www.astropy.org} a community-developed core Python package and an ecosystem of tools and resources for astronomy \\ citep{astropy:2013, astropy:2018, astropy:2022}. \n",
    "\n",
    "The recommended BibTeX for a given version of astropy can also be found from within astropy by running: \n",
    "\n",
    "import astropy\n",
    "astropy.__ citation__"
   ]
  },
  {
   "cell_type": "markdown",
   "metadata": {},
   "source": [
    "# Reflection\n",
    "\n",
    "### 3. In a short paragraph, explain the order-of-magnitude estimate that you did, including how you used astropy to help you.\n",
    "\n",
    "This was a quick and simple calculation in which we very roughly estimated how many stars are in our galaxy. I approximated the galaxy as a cylinder with a radius of 10 kpc and height 1kpc. I then approximated the volume of each sun, but not exactly as the real volume of each sun. Instead, I included the space between suns as well, so it is more apt to say that, for each star, I calculated the volume of the sphere for which there are no other stars in the radius of the sphere. A sort of \"sphere of isolation\". Half the distance between Our star and Proxima Centauri was used for this calculation. Dividing The galaxy volume by this sphere of isolation yields the approximate number of stars in the galaxy. Of course, this sphere isn't exactly correct (binary stars, clusters, large areas with no stars), and neither is the volume of the galaxy, so we can only really say it is precise up to the order-of-magnitude.\n",
    "\n",
    "Astropy was used for this estimate, and it handled unit conversions and basic calculations for me. I set up the equations. \n"
   ]
  },
  {
   "metadata": {},
   "cell_type": "markdown",
   "source": ""
  }
 ],
 "metadata": {
  "kernelspec": {
   "display_name": "Python 3 (ipykernel)",
   "language": "python",
   "name": "python3"
  },
  "language_info": {
   "codemirror_mode": {
    "name": "ipython",
    "version": 3
   },
   "file_extension": ".py",
   "mimetype": "text/x-python",
   "name": "python",
   "nbconvert_exporter": "python",
   "pygments_lexer": "ipython3",
   "version": "3.9.7"
  }
 },
 "nbformat": 4,
 "nbformat_minor": 4
}
