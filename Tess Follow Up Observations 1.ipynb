{
 "cells": [
  {
   "metadata": {},
   "cell_type": "markdown",
   "source": [
    "# Tess Follow Up Obeservations 1\n",
    "\n",
    "This notebook is the first part of a follow-up observation on TESS objects of interest (TOIs). The ultimate goal is to create a list of TOIs observable from Sutherland, South Africa. The list will be used to plan follow-up observations with the SAAO 1.0m telescope. In this notebook, I filter the TESS ground based follow-up data from the Exoplanet Follow-up Observing Program (ExoFOP) based on the following criteria:\n",
    " - Sufficient depth of transit > 1500 ppm\n",
    " - Faint enough: Tess Mag > 9\n",
    " - No pervious time series photometry\n",
    " - Declination <  +28 degrees\n",
    "\n",
    "After this, I find all stars with at least 2 stars in the Mookodi field of view. The output of this notebook is a .csv file which includes all of the columns from the original TESS TOI file, but two new columns which list the number of comparison stars with Mookodi and with SHOC."
   ],
   "id": "28aab4bcb2aba14c"
  },
  {
   "metadata": {},
   "cell_type": "markdown",
   "source": "### Filtering",
   "id": "e05fa69dc7cb6393"
  },
  {
   "metadata": {},
   "cell_type": "code",
   "source": [
    "# import necessary libraries\n",
    "import pandas as pd"
   ],
   "id": "9b551e271297cdaf",
   "outputs": [],
   "execution_count": null
  },
  {
   "metadata": {},
   "cell_type": "code",
   "source": [
    "# reading the TESS TOI file and displaying the first few rows\n",
    "toi = pd.read_csv('Tables/TESS_TOI_28Jan2025.csv')\n",
    "toi.head()"
   ],
   "id": "3f558923ad16669",
   "outputs": [],
   "execution_count": null
  },
  {
   "metadata": {},
   "cell_type": "code",
   "source": [
    "# function to convert sexagesimal ra and dec to decimal (realized I could've just used the astropy function, but oh well)\n",
    "def sexagesimal_to_decimal(ra, dec):\n",
    "    ra = ra.split(':')\n",
    "    dec = dec.split(':')\n",
    "    ra = (float(ra[0]) + float(ra[1])/60 + float(ra[2])/3600) * 15\n",
    "    dec_sign = -1 if dec[0].startswith('-') else 1\n",
    "    dec[0] = dec[0].lstrip('+-')\n",
    "    dec = dec_sign * (float(dec[0]) + float(dec[1])/60 + float(dec[2])/3600)\n",
    "    return ra, dec"
   ],
   "id": "a860a738d68e70f7",
   "outputs": [],
   "execution_count": null
  },
  {
   "metadata": {},
   "cell_type": "code",
   "source": [
    "# creating new columns for ra and dec in decimal form\n",
    "toi['RA (deg)'], toi['Dec (deg)'] = zip(*toi.apply(lambda x: sexagesimal_to_decimal(x['RA'], x['Dec']), axis=1))\n",
    "\n",
    "# filtering the data\n",
    "toi_filtered = toi[(toi['Depth (ppm)'] > 1500) & (toi['TESS Mag'] > 9) & (toi['Dec (deg)'] < +28) & (toi['Time Series Observations'] == 0)]\n",
    "\n",
    "toi_filtered.head()"
   ],
   "id": "d005a480d74f2c95",
   "outputs": [],
   "execution_count": null
  },
  {
   "metadata": {},
   "cell_type": "markdown",
   "source": [
    "Now that I have the filtered stars, I can search for fidn comparison stars in the Mookodi field of view.\n",
    "\n",
    "### Finding Comparison Stars\n"
   ],
   "id": "e54cb8e70c47b566"
  },
  {
   "metadata": {},
   "cell_type": "code",
   "source": [
    "# import necessary libraries\n",
    "import pyvo as vo\n",
    "from tqdm import tqdm"
   ],
   "id": "70fa3c3fb8085a62",
   "outputs": [],
   "execution_count": null
  },
  {
   "metadata": {},
   "cell_type": "code",
   "source": [
    "# function definitions\n",
    "# function to query the skymapper database\n",
    "def skymapper_query(ra, dec):\n",
    "    my_tap_query = (\"SELECT DISTANCE(POINT('ICRS', raj2000, dej2000), POINT('ICRS', \"\n",
    "              + ra + \", \" + dec +\n",
    "              \")) AS dist, \"  +\n",
    "              \"m.object_id,m.raj2000,m.dej2000,m.g_flags,m.g_nimaflags,m.i_flags,m.i_nimaflags, \" +\n",
    "            \"m.g_psf,m.e_g_psf,m.i_psf,m.e_i_psf  FROM dr2.master AS m \" +\n",
    "              \"WHERE 1 = CONTAINS(POINT('ICRS', raj2000, dej2000), \"\n",
    "              \"CIRCLE('ICRS',\"  +\n",
    "               ra +\", \"+ dec +\n",
    "              \", 0.083 )) ORDER BY dist \" )\n",
    "\n",
    "    tap_service = vo.dal.TAPService(\"https://api.skymapper.nci.org.au/public/tap/\")\n",
    "    tap_results =  tap_service.search(my_tap_query)\n",
    "    astropy_table = tap_results.to_table()\n",
    "    df = astropy_table.to_pandas()\n",
    "\n",
    "    #make sure that we really have found out target star\n",
    "    if df.empty:\n",
    "        print(\"Target star not found for ({},{})\".format(ra, dec))\n",
    "        # null out df\n",
    "        df = pd.DataFrame()\n",
    "\n",
    "    elif df['dist'].empty:\n",
    "        print(\"Target star not found for ({},{})\".format(ra, dec))\n",
    "        # null out df\n",
    "        df = pd.DataFrame()\n",
    "\n",
    "    elif df['dist'].iloc[0] > 0.00056 :\n",
    "        print(\"We have a problem, distance > 2 arcsconds for ({},{})\".format(ra, dec))\n",
    "        # null out df\n",
    "        df = pd.DataFrame()\n",
    "\n",
    "    return df\n",
    "\n",
    "# function to clean the photometric data\n",
    "def photometric_cleaning(df) :\n",
    "    # handle null case (when star was not found)\n",
    "    if df.empty:\n",
    "        return df\n",
    "\n",
    "    # filter out bad photometry\n",
    "    g_good1 = df['g_flags'] == 0\n",
    "    g_good2 = df['g_nimaflags'] == 0\n",
    "    g_good3 = df['e_g_psf'] < 0.022\n",
    "    i_good1 = df['i_flags'] == 0\n",
    "    i_good2 = df['i_nimaflags'] == 0\n",
    "    i_good3 = df['e_i_psf'] < 0.022\n",
    "\n",
    "    #combine these comparisons to make a new dataframe\n",
    "    df_good = df[g_good1 & g_good2 & g_good3 & i_good1 & i_good2 & i_good3]\n",
    "    return df_good\n",
    "\n",
    "\n",
    "# function to search for comparison stars in the Mookodi field of view\n",
    "def mookodi_search(df_good, G_mag):\n",
    "    # handle null case (when star was not found)\n",
    "    if df_good.empty:\n",
    "        return 0, 0\n",
    "\n",
    "    i_brightcut = G_mag - 0.5\n",
    "    i_faintcut = G_mag + 4.0\n",
    "\n",
    "    i_bright = df_good['i_psf'] > i_brightcut\n",
    "    i_faint = df_good['i_psf'] < i_faintcut\n",
    "\n",
    "    df_mookodi = df_good[i_bright & i_faint]\n",
    "\n",
    "    shoc_comp = df_mookodi['dist'] < 0.0233   #SHOC field of view is 2.8x2.8 arcminutes, so use r=1.4 arcminutes\n",
    "    df_shoc = df_mookodi[shoc_comp]\n",
    "    num_mookodi = df_mookodi.shape[0]\n",
    "    num_shoc_comp = df_shoc.shape[0]\n",
    "    return num_mookodi, num_shoc_comp"
   ],
   "id": "fd20c8e2eedd2a1a",
   "outputs": [],
   "execution_count": null
  },
  {
   "metadata": {},
   "cell_type": "code",
   "source": [
    "# looping over all stars in the filtered data and to generate mookodi and shoc comparison star counts\n",
    "# the tqdm stuff just let me see a progress bar and gave me an estimate of how long it would take\n",
    "mookodi_comp = []\n",
    "shoc_comp = []\n",
    "\n",
    "# iterating over the filtered TOIs and searching for Mookodi\n",
    "for index, row in tqdm(toi_filtered.iterrows(), total=toi_filtered.shape[0], desc=\"Mookodi Search\"):\n",
    "    df = skymapper_query(str(row['RA (deg)']), str(row['Dec (deg)']))\n",
    "    df_good = photometric_cleaning(df)\n",
    "    mookodi, shoc = mookodi_search(df_good, row['TESS Mag'])\n",
    "    mookodi_comp.append(mookodi)\n",
    "    shoc_comp.append(shoc)\n",
    "\n",
    "print(mookodi_comp)"
   ],
   "id": "8964c0c80e185c22",
   "outputs": [],
   "execution_count": null
  },
  {
   "metadata": {},
   "cell_type": "code",
   "source": [
    "# adding the comparison star counts to the filtered TOI dataframe\n",
    "toi_filtered.loc[:, 'Mookodi Comp'] = mookodi_comp\n",
    "toi_filtered.loc[:, 'SHOC Comp'] = shoc_comp\n",
    "\n",
    "# keeping only rows with Mookodi count > 2\n",
    "toi_mookodi = toi_filtered.loc[toi_filtered['Mookodi Comp'] > 2]\n",
    "\n",
    "toi_mookodi.head()"
   ],
   "id": "7f84d983adb496e2",
   "outputs": [],
   "execution_count": null
  },
  {
   "metadata": {},
   "cell_type": "code",
   "source": [
    "# saving to a new csv file\n",
    "toi_mookodi.to_csv('Tables/TESS_TOI_28Jan2025_Mookodi.csv', index=False)"
   ],
   "id": "bb0156cd1b03f130",
   "outputs": [],
   "execution_count": null
  },
  {
   "metadata": {},
   "cell_type": "markdown",
   "source": [
    "### Final lists\n",
    "\n",
    "Below is the code for the lists provided in the writeup\n"
   ],
   "id": "a74ef3519d667025"
  },
  {
   "metadata": {
    "ExecuteTime": {
     "end_time": "2025-02-01T18:48:37.161835Z",
     "start_time": "2025-02-01T18:48:37.144120Z"
    }
   },
   "cell_type": "code",
   "source": [
    "# first 10 potentially observable\n",
    "toi_filtered['TOI'].head(10)"
   ],
   "id": "c9b56dbe00d59c25",
   "outputs": [
    {
     "data": {
      "text/plain": [
       "0     101.01\n",
       "2     103.01\n",
       "6     107.01\n",
       "7     108.01\n",
       "8     109.01\n",
       "9     110.01\n",
       "12    113.01\n",
       "13    114.01\n",
       "14    115.01\n",
       "16    117.01\n",
       "Name: TOI, dtype: float64"
      ]
     },
     "execution_count": 28,
     "metadata": {},
     "output_type": "execute_result"
    }
   ],
   "execution_count": 28
  },
  {
   "metadata": {
    "ExecuteTime": {
     "end_time": "2025-02-01T18:50:35.434710Z",
     "start_time": "2025-02-01T18:50:35.418847Z"
    }
   },
   "cell_type": "code",
   "source": [
    "# list the number of potentially observable stars from the initial cut\n",
    "len(toi_filtered['TOI'])"
   ],
   "id": "47e9a1cac9e602cb",
   "outputs": [
    {
     "data": {
      "text/plain": [
       "975"
      ]
     },
     "execution_count": 30,
     "metadata": {},
     "output_type": "execute_result"
    }
   ],
   "execution_count": 30
  },
  {
   "metadata": {
    "ExecuteTime": {
     "end_time": "2025-02-01T18:50:41.502468Z",
     "start_time": "2025-02-01T18:50:41.490742Z"
    }
   },
   "cell_type": "code",
   "source": [
    "# list the number of TOIs with >2 comparison stars in Mookodi field of view\n",
    "len(toi_mookodi['TOI'])"
   ],
   "id": "43947f2736cab574",
   "outputs": [
    {
     "data": {
      "text/plain": [
       "706"
      ]
     },
     "execution_count": 31,
     "metadata": {},
     "output_type": "execute_result"
    }
   ],
   "execution_count": 31
  },
  {
   "metadata": {
    "ExecuteTime": {
     "end_time": "2025-02-01T18:50:46.650965Z",
     "start_time": "2025-02-01T18:50:46.630300Z"
    }
   },
   "cell_type": "code",
   "source": [
    "# list the number of TOIs with >4 comparison stars in Mookodi field of view\n",
    "len(toi_mookodi[toi_mookodi['Mookodi Comp'] > 4]['TOI'])"
   ],
   "id": "d9dcfcde8e990a28",
   "outputs": [
    {
     "data": {
      "text/plain": [
       "644"
      ]
     },
     "execution_count": 32,
     "metadata": {},
     "output_type": "execute_result"
    }
   ],
   "execution_count": 32
  },
  {
   "metadata": {
    "ExecuteTime": {
     "end_time": "2025-02-01T18:50:51.468347Z",
     "start_time": "2025-02-01T18:50:51.455258Z"
    }
   },
   "cell_type": "code",
   "source": [
    "# list the number of TOIs with >2 comparison stars in SHOC field of view\n",
    "len(toi_mookodi[toi_mookodi['SHOC Comp'] > 2]['TOI'])"
   ],
   "id": "89f852dec072b4e1",
   "outputs": [
    {
     "data": {
      "text/plain": [
       "330"
      ]
     },
     "execution_count": 33,
     "metadata": {},
     "output_type": "execute_result"
    }
   ],
   "execution_count": 33
  },
  {
   "metadata": {
    "ExecuteTime": {
     "end_time": "2025-02-01T18:50:56.600675Z",
     "start_time": "2025-02-01T18:50:56.593656Z"
    }
   },
   "cell_type": "code",
   "source": [
    "# list the number of TOIs with >4 comparison stars in SHOC field of view\n",
    "len(toi_mookodi[toi_mookodi['SHOC Comp'] > 4]['TOI'])"
   ],
   "id": "b51254561307b2ef",
   "outputs": [
    {
     "data": {
      "text/plain": [
       "178"
      ]
     },
     "execution_count": 34,
     "metadata": {},
     "output_type": "execute_result"
    }
   ],
   "execution_count": 34
  }
 ],
 "metadata": {
  "kernelspec": {
   "display_name": "Python 3",
   "language": "python",
   "name": "python3"
  },
  "language_info": {
   "codemirror_mode": {
    "name": "ipython",
    "version": 2
   },
   "file_extension": ".py",
   "mimetype": "text/x-python",
   "name": "python",
   "nbconvert_exporter": "python",
   "pygments_lexer": "ipython2",
   "version": "2.7.6"
  }
 },
 "nbformat": 4,
 "nbformat_minor": 5
}
